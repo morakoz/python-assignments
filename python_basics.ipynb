{
 "cells": [
  {
   "cell_type": "markdown",
   "metadata": {},
   "source": [
    "# Assignment 3: Basic Python\n",
    "\n",
    "\n",
    "```{admonition} Learning Goals\n",
    ":class: tip\n",
    "\n",
    "This assignment will verify that you have the following skills:\n",
    "- Create lists and dictionaries\n",
    "- Iterate through lists, tuples, and dictionaries\n",
    "- Index sequences (e.g. lists and tuples)\n",
    "```"
   ]
  },
  {
   "cell_type": "markdown",
   "metadata": {},
   "source": [
    "## Part I: Lists and Loops\n",
    "\n",
    "In this problem, we will explore the basic data structures and flow controls of Python by _manually creating data structures_.\n",
    "\n",
    "\n",
    "```{warning}\n",
    "Pluto is [not a planet any more](https://www.loc.gov/everyday-mysteries/item/why-is-pluto-no-longer-a-planet/).\n",
    "```"
   ]
  },
  {
   "cell_type": "markdown",
   "metadata": {},
   "source": [
    "### 1) Create a list with the names of every planet in the solar system (in order)"
   ]
  },
  {
   "cell_type": "code",
   "execution_count": 11,
   "metadata": {},
   "outputs": [],
   "source": [
    "planets = ['Mercury', 'Venus', 'Earth', 'Mars', 'Jupiter', 'Saturn', 'Uranus', 'Neptune']\n"
   ]
  },
  {
   "cell_type": "markdown",
   "metadata": {
    "tags": []
   },
   "source": [
    "### 2) Have Python tell you how many planets there are by examining your list"
   ]
  },
  {
   "cell_type": "code",
   "execution_count": 12,
   "metadata": {},
   "outputs": [
    {
     "data": {
      "text/plain": [
       "8"
      ]
     },
     "execution_count": 12,
     "metadata": {},
     "output_type": "execute_result"
    }
   ],
   "source": [
    "len(planets)\n"
   ]
  },
  {
   "cell_type": "markdown",
   "metadata": {},
   "source": [
    "### 3) Use slicing to display the first four planets (the rocky planets)"
   ]
  },
  {
   "cell_type": "code",
   "execution_count": 13,
   "metadata": {},
   "outputs": [
    {
     "name": "stdout",
     "output_type": "stream",
     "text": [
      "['Mercury', 'Venus', 'Earth', 'Mars']\n"
     ]
    }
   ],
   "source": [
    "print(planets[:4])"
   ]
  },
  {
   "cell_type": "markdown",
   "metadata": {},
   "source": [
    "### 4) Iterate through your planets and print the planet name only if it has an `s` at the end"
   ]
  },
  {
   "cell_type": "code",
   "execution_count": 19,
   "metadata": {},
   "outputs": [
    {
     "name": "stdout",
     "output_type": "stream",
     "text": [
      "Venus\n",
      "Mars\n",
      "Uranus\n"
     ]
    }
   ],
   "source": [
    "for planet in planets:\n",
    "    if planet[-1] == \"s\":\n",
    "        print(planet)"
   ]
  },
  {
   "cell_type": "markdown",
   "metadata": {},
   "source": [
    "## Part II: Dictionaries\n",
    "\n",
    "### 1) Now create a dictionary that maps each planet name to its mass\n",
    "\n",
    "You can use values from this [NASA fact sheet](https://nssdc.gsfc.nasa.gov/planetary/factsheet/).\n",
    "You can use whatever units you want, but be consistent."
   ]
  },
  {
   "cell_type": "code",
   "execution_count": 36,
   "metadata": {},
   "outputs": [
    {
     "name": "stdout",
     "output_type": "stream",
     "text": [
      "{'Mercury': 0.33, 'Venus': 4.87, 'Earth': 5.97, 'Mars': 0.642, 'Jupiter': 1898, 'Saturn': 568, 'Uranus': 86.8, 'Neptune': 102}\n"
     ]
    }
   ],
   "source": [
    "thisdict = {\n",
    "    'Mercury': .330,\n",
    "    'Venus': 4.87,\n",
    "    'Earth':5.97,\n",
    "    'Mars':.642,\n",
    "    'Jupiter':1898,\n",
    "    'Saturn':568,\n",
    "    'Uranus':86.8,\n",
    "    'Neptune':102\n",
    "}\n",
    "\n",
    "print(thisdict)"
   ]
  },
  {
   "cell_type": "markdown",
   "metadata": {},
   "source": [
    "### 2) Use your dictionary to look up Earth's mass"
   ]
  },
  {
   "cell_type": "code",
   "execution_count": 37,
   "metadata": {},
   "outputs": [
    {
     "name": "stdout",
     "output_type": "stream",
     "text": [
      "5.97\n"
     ]
    }
   ],
   "source": [
    "print(thisdict['Earth'])"
   ]
  },
  {
   "cell_type": "markdown",
   "metadata": {
    "tags": []
   },
   "source": [
    "### 3) Loop through the data and create a list of planets whose mast is greater than 100 x 10^24 kg \n",
    "\n",
    "Display your result"
   ]
  },
  {
   "cell_type": "code",
   "execution_count": 39,
   "metadata": {},
   "outputs": [
    {
     "name": "stdout",
     "output_type": "stream",
     "text": [
      "{'Jupiter': 1898, 'Saturn': 568, 'Neptune': 102}\n"
     ]
    }
   ],
   "source": [
    "new_dict = {}\n",
    "for key, value in thisdict.items():\n",
    "    if value >=100:\n",
    "        new_dict[key] = value\n",
    "print(new_dict)"
   ]
  },
  {
   "cell_type": "markdown",
   "metadata": {},
   "source": [
    "### 4) Now add pluto to your dictionary"
   ]
  },
  {
   "cell_type": "code",
   "execution_count": 23,
   "metadata": {},
   "outputs": [
    {
     "name": "stdout",
     "output_type": "stream",
     "text": [
      "{'Mercury': 0.33, 'Venus': 4.87, 'Earth': 5.97, 'Mars': 0.642, 'Jupiter': 1898, 'Saturn': 568, 'Uranus': 86.8, 'Neptune': 102, 'Pluto': 0.013}\n"
     ]
    }
   ],
   "source": [
    "thisdict.update({'Pluto':.0130})\n",
    "print(thisdict)"
   ]
  }
 ],
 "metadata": {
  "kernelspec": {
   "display_name": "Python 3",
   "language": "python",
   "name": "python3"
  },
  "language_info": {
   "codemirror_mode": {
    "name": "ipython",
    "version": 3
   },
   "file_extension": ".py",
   "mimetype": "text/x-python",
   "name": "python",
   "nbconvert_exporter": "python",
   "pygments_lexer": "ipython3",
   "version": "3.8.8"
  }
 },
 "nbformat": 4,
 "nbformat_minor": 4
}

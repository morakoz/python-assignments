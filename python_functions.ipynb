{
 "cells": [
  {
   "cell_type": "markdown",
   "metadata": {
    "tags": []
   },
   "source": [
    "# Assignment 4: Python Functions\n",
    "\n",
    "\n",
    "```{admonition} Learning Goals\n",
    ":class: tip\n",
    "\n",
    "This assignment will verify that you have the following skills:\n",
    "- Define functions\n",
    "- Use optional keyword arguments in functions\n",
    "```"
   ]
  },
  {
   "cell_type": "markdown",
   "metadata": {},
   "source": [
    "## Part I: Practice with Functions\n",
    "\n",
    "### 1. Write a function to convert temperature from kelvin to celsius and celsius to kelvin"
   ]
  },
  {
   "cell_type": "code",
   "execution_count": 9,
   "metadata": {},
   "outputs": [
    {
     "name": "stdout",
     "output_type": "stream",
     "text": [
      "celcius: -273.15\n",
      "kelvin: 273.15\n"
     ]
    }
   ],
   "source": [
    "def K2C(x):\n",
    "    return x - 273.15\n",
    "print ('celcius:', K2C(0))\n",
    "\n",
    "def C2K(x):\n",
    "    return (x + 273.15)\n",
    "print ('kelvin:', C2K(0))"
   ]
  },
  {
   "cell_type": "markdown",
   "metadata": {
    "tags": []
   },
   "source": [
    "### 2. Write a function to convert temperature to fahrenheit\n",
    "\n",
    "Include an optional keyword argument to specify whether the input is in  celcius or kelvin.\n",
    "Call your previously defined functions if necessary."
   ]
  },
  {
   "cell_type": "code",
   "execution_count": 10,
   "metadata": {},
   "outputs": [
    {
     "name": "stdout",
     "output_type": "stream",
     "text": [
      "Converting 40C to 104.0F.\n"
     ]
    }
   ],
   "source": [
    "def convert_temp_to_F(t, unit):\n",
    "    if(unit=='C'):\n",
    "        tmpf = t*9/5+32\n",
    "        print('Converting '+str(t)+'C to '+str(tmpf)+'F.')\n",
    "    elif(unit=='K'):\n",
    "        tmpf = ((t-32)*(5/9))+273.15\n",
    "        print('Converting '+str(t)+'C to '+str(tmpf)+'F.')\n",
    "    else:\n",
    "        print(\"Please specify input temperature by setting unit='K' or 'C'.\")\n",
    "    return tmpf\n",
    "\n",
    "tF = convert_temp_to_F(40, 'C')"
   ]
  },
  {
   "cell_type": "markdown",
   "metadata": {},
   "source": [
    "### 3) Check that the outputs are sensible by trying a few examples"
   ]
  },
  {
   "cell_type": "code",
   "execution_count": 16,
   "metadata": {},
   "outputs": [
    {
     "name": "stdout",
     "output_type": "stream",
     "text": [
      "celcius: -248.14999999999998\n",
      "kelvin: 298.15\n",
      "Converting 25C to 77.0F.\n",
      "77.0\n"
     ]
    }
   ],
   "source": [
    "print ('celcius:', K2C(25))\n",
    "print ('kelvin:', C2K(25))\n",
    "print (convert_temp_to_F(25, 'C'))"
   ]
  },
  {
   "cell_type": "markdown",
   "metadata": {},
   "source": [
    "### 4) Now write a function that converts _from_ farenheit and uses a keyword argument to specify whether you want the output in celcius or kelvin"
   ]
  },
  {
   "cell_type": "code",
   "execution_count": 27,
   "metadata": {},
   "outputs": [
    {
     "name": "stdout",
     "output_type": "stream",
     "text": [
      "celcius: -57.6\n",
      "kelvin: 215.54999999999998\n"
     ]
    }
   ],
   "source": [
    "def F2C(x):\n",
    "    return (x - 32) * 9 / 5\n",
    "print ('celcius:', F2C(0))\n",
    "\n",
    "def F2K(x):\n",
    "    return (x - 32) * 9 / 5 + 273.15\n",
    "print ('kelvin:', F2K(0))"
   ]
  },
  {
   "cell_type": "markdown",
   "metadata": {},
   "source": [
    "### 5) Write a function that takes two arguments (feet and inches) and returns height in meters\n",
    "\n",
    "Verify it gives sensible answers"
   ]
  },
  {
   "cell_type": "code",
   "execution_count": 22,
   "metadata": {},
   "outputs": [
    {
     "name": "stdout",
     "output_type": "stream",
     "text": [
      "Converting 5 feet 8 inches to 1.7276422764227644 meters.\n"
     ]
    }
   ],
   "source": [
    "def calc_height_meters(feet, inch):\n",
    "    height_m = (feet+inch/12)/3.28\n",
    "    \n",
    "    print('Converting '+str(feet)+' feet '+str(inch)+' inches to '+str(height_m)+' meters.')\n",
    "    \n",
    "    return height_m\n",
    "\n",
    "h_m = calc_height_meters(5, 8)"
   ]
  },
  {
   "cell_type": "markdown",
   "metadata": {},
   "source": [
    "### 6. Write a function takes one argument (height in meters) and returns two arguments (feet and inches)\n",
    "\n",
    "(Consult the [tutorial on numbers](https://docs.python.org/3/tutorial/introduction.html#numbers) if you are stuck on how to implement this.)"
   ]
  },
  {
   "cell_type": "code",
   "execution_count": 21,
   "metadata": {},
   "outputs": [
    {
     "name": "stdout",
     "output_type": "stream",
     "text": [
      "Converting 1.7 meters to 5 feet 7 inches.\n",
      "{'feet': 5, 'inches': 7}\n"
     ]
    }
   ],
   "source": [
    "def calc_height_feet(meters):\n",
    "    height_decimal_feet = (meters)*3.28\n",
    "    height_feet = int(height_decimal_feet)\n",
    "    height_decimal_inches = height_decimal_feet - height_feet\n",
    "    height_inches = round(height_decimal_inches*12)\n",
    "\n",
    "    print('Converting '+str(meters)+' meters to '+str(height_feet)+' feet '+str(height_inches)+' inches.')\n",
    "    \n",
    "    height = {'feet':height_feet, 'inches':height_inches}\n",
    "    return height\n",
    "\n",
    "h = calc_height_feet(1.7)\n",
    "print(h)"
   ]
  },
  {
   "cell_type": "markdown",
   "metadata": {
    "tags": []
   },
   "source": [
    "### 7) Verify that the \"round trip\" conversion from and back to meters is consistent \n",
    "\n",
    "Check for 3 different values of height in meters"
   ]
  },
  {
   "cell_type": "code",
   "execution_count": 24,
   "metadata": {},
   "outputs": [
    {
     "name": "stdout",
     "output_type": "stream",
     "text": [
      "Converting 5 feet 4 inches to 1.6260162601626016 meters.\n",
      "1.6260162601626016\n",
      "Converting 4 feet 10 inches to 1.4735772357723578 meters.\n",
      "1.4735772357723578\n",
      "Converting 2 feet 7 inches to 0.7876016260162603 meters.\n",
      "0.7876016260162603\n"
     ]
    }
   ],
   "source": [
    "my_height_feet = 5\n",
    "my_height_inches = 4\n",
    "\n",
    "h_m = calc_height_meters(my_height_feet, my_height_inches)\n",
    "print(h_m)\n",
    "\n",
    "my_height_feet = 4\n",
    "my_height_inches = 10\n",
    "\n",
    "h_m = calc_height_meters(my_height_feet, my_height_inches)\n",
    "print(h_m)\n",
    "\n",
    "my_height_feet = 2\n",
    "my_height_inches = 7\n",
    "\n",
    "h_m = calc_height_meters(my_height_feet, my_height_inches)\n",
    "print(h_m)"
   ]
  },
  {
   "cell_type": "code",
   "execution_count": null,
   "metadata": {},
   "outputs": [],
   "source": []
  }
 ],
 "metadata": {
  "kernelspec": {
   "display_name": "Python 3",
   "language": "python",
   "name": "python3"
  },
  "language_info": {
   "codemirror_mode": {
    "name": "ipython",
    "version": 3
   },
   "file_extension": ".py",
   "mimetype": "text/x-python",
   "name": "python",
   "nbconvert_exporter": "python",
   "pygments_lexer": "ipython3",
   "version": "3.8.8"
  }
 },
 "nbformat": 4,
 "nbformat_minor": 4
}
